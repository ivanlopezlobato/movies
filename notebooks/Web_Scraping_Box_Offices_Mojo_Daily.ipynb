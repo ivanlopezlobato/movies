{
 "cells": [
  {
   "cell_type": "code",
   "execution_count": 1,
   "metadata": {},
   "outputs": [],
   "source": [
    "import pandas as pd\n",
    "import numpy as np\n",
    "import re\n",
    "import datetime\n",
    "import requests\n",
    "import bs4\n",
    "\n",
    "pd.set_option('display.max_rows', 50)"
   ]
  },
  {
   "cell_type": "code",
   "execution_count": 2,
   "metadata": {},
   "outputs": [],
   "source": [
    "# define url\n",
    "base = \"https://www.boxofficemojo.com/date/\"\n"
   ]
  },
  {
   "cell_type": "code",
   "execution_count": 3,
   "metadata": {},
   "outputs": [],
   "source": [
    "# take one day example\n",
    "date = \"2020-02-02\"\n",
    "url = base + date\n",
    "r = requests.get(url)\n",
    "soup = bs4.BeautifulSoup(r.content, \"html.parser\")\n",
    "movies = soup.find(\"div\", class_=\"a-section imdb-scroll-table-inner\").find_all(\"tr\")"
   ]
  },
  {
   "cell_type": "markdown",
   "metadata": {},
   "source": [
    "### Exploring website "
   ]
  },
  {
   "cell_type": "code",
   "execution_count": 4,
   "metadata": {},
   "outputs": [
    {
     "data": {
      "text/plain": [
       "'Bad Boys for Life'"
      ]
     },
     "execution_count": 4,
     "metadata": {},
     "output_type": "execute_result"
    }
   ],
   "source": [
    "# Title\n",
    "movies[1].find(\"a\", class_=\"a-link-normal\").contents[0]"
   ]
  },
  {
   "cell_type": "code",
   "execution_count": 5,
   "metadata": {},
   "outputs": [
    {
     "data": {
      "text/plain": [
       "'2823509'"
      ]
     },
     "execution_count": 5,
     "metadata": {},
     "output_type": "execute_result"
    }
   ],
   "source": [
    "# Daily\n",
    "movies[1].find_all(\"td\", class_=\"a-text-right mojo-field-type-money mojo-estimatable\")[0].contents[0].replace(\",\",\"\").replace(\"$\",\"\")"
   ]
  },
  {
   "cell_type": "code",
   "execution_count": 6,
   "metadata": {},
   "outputs": [
    {
     "data": {
      "text/plain": [
       "'3705'"
      ]
     },
     "execution_count": 6,
     "metadata": {},
     "output_type": "execute_result"
    }
   ],
   "source": [
    "# theaters\n",
    "movies[1].find_all(\"td\", class_=\"a-text-right mojo-field-type-positive_integer mojo-estimatable\")[0].contents[0].replace(\",\",\"\")"
   ]
  },
  {
   "cell_type": "code",
   "execution_count": 7,
   "metadata": {},
   "outputs": [
    {
     "data": {
      "text/plain": [
       "'148059490'"
      ]
     },
     "execution_count": 7,
     "metadata": {},
     "output_type": "execute_result"
    }
   ],
   "source": [
    "# Gross accumulated\n",
    "movies[1].find_all(\"td\", class_=\"a-text-right mojo-field-type-money mojo-estimatable\")[2].contents[0].replace(\",\",\"\").replace(\"$\",\"\")"
   ]
  },
  {
   "cell_type": "code",
   "execution_count": 8,
   "metadata": {},
   "outputs": [
    {
     "data": {
      "text/plain": [
       "'17'"
      ]
     },
     "execution_count": 8,
     "metadata": {},
     "output_type": "execute_result"
    }
   ],
   "source": [
    "# days\n",
    "movies[1].find_all(\"td\", class_=\"a-text-right mojo-field-type-positive_integer\")[1].contents[0]"
   ]
  },
  {
   "cell_type": "code",
   "execution_count": 9,
   "metadata": {},
   "outputs": [
    {
     "data": {
      "text/plain": [
       "'Sony Pictures Releasing'"
      ]
     },
     "execution_count": 9,
     "metadata": {},
     "output_type": "execute_result"
    }
   ],
   "source": [
    "# Distributor\n",
    "movies[1].find_all(\"td\", class_=\"a-text-left mojo-field-type-release_studios\")[0].find(\"a\", class_=\"a-link-normal\").contents[0]"
   ]
  },
  {
   "cell_type": "code",
   "execution_count": 10,
   "metadata": {},
   "outputs": [
    {
     "data": {
      "text/plain": [
       "'1'"
      ]
     },
     "execution_count": 10,
     "metadata": {},
     "output_type": "execute_result"
    }
   ],
   "source": [
    "# rank\n",
    "movies[1].find_all(\"td\", class_=\"a-text-right mojo-header-column mojo-truncate mojo-field-type-rank mojo-sort-column\")[0].contents[0]"
   ]
  },
  {
   "cell_type": "markdown",
   "metadata": {},
   "source": [
    "### Range of dates to extract"
   ]
  },
  {
   "cell_type": "code",
   "execution_count": 11,
   "metadata": {},
   "outputs": [],
   "source": [
    "# test range 2019\n",
    "date1 = '2018-01-01'\n",
    "date2 = '2018-01-02'\n",
    "mydates = pd.date_range(date1, date2)\n",
    "mydates_list = [date.strftime(\"%Y-%m-%d\") for date in mydates]\n"
   ]
  },
  {
   "cell_type": "markdown",
   "metadata": {},
   "source": [
    "### Extract data from BoxOffice Mojo"
   ]
  },
  {
   "cell_type": "code",
   "execution_count": 12,
   "metadata": {},
   "outputs": [],
   "source": [
    "base = \"https://www.boxofficemojo.com/date/\"\n",
    "\n",
    "# empty dataframe\n",
    "df = pd.DataFrame(columns=[\"date\",\"rank\",\"title\", \"daily\" , \"theaters\", \"gross\", \"days\", \"distributor\"]) \n",
    "    \n",
    "# loop for fetch all daily data of year 2019\n",
    "for date in mydates_list:\n",
    "    url = base + str(date)\n",
    "    r = requests.get(url)\n",
    "    soup = bs4.BeautifulSoup(r.content, \"html.parser\")\n",
    "    movies = soup.find(\"div\", class_=\"a-section imdb-scroll-table-inner\").find_all(\"tr\")\n",
    "    for movie in movies[1:]:\n",
    "        \n",
    "        rank = str(movie.find_all(\"td\", class_=\"a-text-right mojo-header-column mojo-truncate mojo-field-type-rank mojo-sort-column\")[0].contents[0])\n",
    "        title = str(movie.find(\"a\", class_=\"a-link-normal\").contents[0])\n",
    "        daily = str(movie.find_all(\"td\", class_=\"a-text-right mojo-field-type-money mojo-estimatable\")[0].contents[0].replace(\",\",\"\").replace(\"$\",\"\"))\n",
    "        theaters = str(movie.find_all(\"td\", class_=\"a-text-right mojo-field-type-positive_integer mojo-estimatable\")[0].contents[0].replace(\",\",\"\"))\n",
    "        gross = str(movie.find_all(\"td\", class_=\"a-text-right mojo-field-type-money mojo-estimatable\")[2].contents[0].replace(\",\",\"\").replace(\"$\",\"\"))\n",
    "        days = str(movie.find_all(\"td\", class_=\"a-text-right mojo-field-type-positive_integer\")[1].contents[0])\n",
    "        distributor = str(\"-\" if movie.find_all(\"td\", class_=\"a-text-left mojo-field-type-release_studios\")[0].find(\"a\", class_=\"a-link-normal\") == None else movie.find_all(\"td\", class_=\"a-text-left mojo-field-type-release_studios\")[0].find(\"a\", class_=\"a-link-normal\").contents[0])\n",
    "        \n",
    "        df = df.append({\"date\":str(date), \"rank\":rank, \"title\":title, \"daily\":daily, \"theaters\":theaters, \"gross\":gross, \"days\":days, \"distributor\":distributor}, ignore_index=True)"
   ]
  },
  {
   "cell_type": "code",
   "execution_count": 13,
   "metadata": {},
   "outputs": [
    {
     "data": {
      "text/html": [
       "<div>\n",
       "<style scoped>\n",
       "    .dataframe tbody tr th:only-of-type {\n",
       "        vertical-align: middle;\n",
       "    }\n",
       "\n",
       "    .dataframe tbody tr th {\n",
       "        vertical-align: top;\n",
       "    }\n",
       "\n",
       "    .dataframe thead th {\n",
       "        text-align: right;\n",
       "    }\n",
       "</style>\n",
       "<table border=\"1\" class=\"dataframe\">\n",
       "  <thead>\n",
       "    <tr style=\"text-align: right;\">\n",
       "      <th></th>\n",
       "      <th>date</th>\n",
       "      <th>rank</th>\n",
       "      <th>title</th>\n",
       "      <th>daily</th>\n",
       "      <th>theaters</th>\n",
       "      <th>gross</th>\n",
       "      <th>days</th>\n",
       "      <th>distributor</th>\n",
       "    </tr>\n",
       "  </thead>\n",
       "  <tbody>\n",
       "    <tr>\n",
       "      <th>0</th>\n",
       "      <td>2018-01-01</td>\n",
       "      <td>1</td>\n",
       "      <td>Jumanji: Welcome to the Jungle</td>\n",
       "      <td>16222389</td>\n",
       "      <td>3765</td>\n",
       "      <td>185224946</td>\n",
       "      <td>13</td>\n",
       "      <td>Sony Pictures Releasing</td>\n",
       "    </tr>\n",
       "    <tr>\n",
       "      <th>1</th>\n",
       "      <td>2018-01-01</td>\n",
       "      <td>2</td>\n",
       "      <td>Star Wars: Episode VIII - The Last Jedi</td>\n",
       "      <td>14293461</td>\n",
       "      <td>4232</td>\n",
       "      <td>531511829</td>\n",
       "      <td>18</td>\n",
       "      <td>Walt Disney Studios Motion Pictures</td>\n",
       "    </tr>\n",
       "    <tr>\n",
       "      <th>2</th>\n",
       "      <td>2018-01-01</td>\n",
       "      <td>3</td>\n",
       "      <td>The Greatest Showman</td>\n",
       "      <td>5385815</td>\n",
       "      <td>3316</td>\n",
       "      <td>54422533</td>\n",
       "      <td>13</td>\n",
       "      <td>Twentieth Century Fox</td>\n",
       "    </tr>\n",
       "    <tr>\n",
       "      <th>3</th>\n",
       "      <td>2018-01-01</td>\n",
       "      <td>4</td>\n",
       "      <td>Pitch Perfect 3</td>\n",
       "      <td>4865865</td>\n",
       "      <td>3468</td>\n",
       "      <td>68166470</td>\n",
       "      <td>11</td>\n",
       "      <td>Universal Pictures</td>\n",
       "    </tr>\n",
       "    <tr>\n",
       "      <th>4</th>\n",
       "      <td>2018-01-01</td>\n",
       "      <td>5</td>\n",
       "      <td>Ferdinand</td>\n",
       "      <td>3465756</td>\n",
       "      <td>3337</td>\n",
       "      <td>57012473</td>\n",
       "      <td>18</td>\n",
       "      <td>Twentieth Century Fox</td>\n",
       "    </tr>\n",
       "    <tr>\n",
       "      <th>...</th>\n",
       "      <td>...</td>\n",
       "      <td>...</td>\n",
       "      <td>...</td>\n",
       "      <td>...</td>\n",
       "      <td>...</td>\n",
       "      <td>...</td>\n",
       "      <td>...</td>\n",
       "      <td>...</td>\n",
       "    </tr>\n",
       "    <tr>\n",
       "      <th>99</th>\n",
       "      <td>2018-01-02</td>\n",
       "      <td>38</td>\n",
       "      <td>The Breadwinner</td>\n",
       "      <td>1492</td>\n",
       "      <td>10</td>\n",
       "      <td>223841</td>\n",
       "      <td>47</td>\n",
       "      <td>GKIDS</td>\n",
       "    </tr>\n",
       "    <tr>\n",
       "      <th>100</th>\n",
       "      <td>2018-01-02</td>\n",
       "      <td>39</td>\n",
       "      <td>Marshall</td>\n",
       "      <td>1449</td>\n",
       "      <td>50</td>\n",
       "      <td>9472608</td>\n",
       "      <td>82</td>\n",
       "      <td>Open Road Films (II)</td>\n",
       "    </tr>\n",
       "    <tr>\n",
       "      <th>101</th>\n",
       "      <td>2018-01-02</td>\n",
       "      <td>40</td>\n",
       "      <td>Wonderstruck</td>\n",
       "      <td>1088</td>\n",
       "      <td>10</td>\n",
       "      <td>1057858</td>\n",
       "      <td>75</td>\n",
       "      <td>Roadside Attractions</td>\n",
       "    </tr>\n",
       "    <tr>\n",
       "      <th>102</th>\n",
       "      <td>2018-01-02</td>\n",
       "      <td>41</td>\n",
       "      <td>Let There Be Light</td>\n",
       "      <td>608</td>\n",
       "      <td>8</td>\n",
       "      <td>7209864</td>\n",
       "      <td>68</td>\n",
       "      <td>Atlas Distribution Company</td>\n",
       "    </tr>\n",
       "    <tr>\n",
       "      <th>103</th>\n",
       "      <td>2018-01-02</td>\n",
       "      <td>42</td>\n",
       "      <td>On the Beach at Night Alone</td>\n",
       "      <td>126</td>\n",
       "      <td>2</td>\n",
       "      <td>30809</td>\n",
       "      <td>47</td>\n",
       "      <td>The Cinema Guild</td>\n",
       "    </tr>\n",
       "  </tbody>\n",
       "</table>\n",
       "<p>104 rows × 8 columns</p>\n",
       "</div>"
      ],
      "text/plain": [
       "           date rank                                    title     daily  \\\n",
       "0    2018-01-01    1           Jumanji: Welcome to the Jungle  16222389   \n",
       "1    2018-01-01    2  Star Wars: Episode VIII - The Last Jedi  14293461   \n",
       "2    2018-01-01    3                     The Greatest Showman   5385815   \n",
       "3    2018-01-01    4                          Pitch Perfect 3   4865865   \n",
       "4    2018-01-01    5                                Ferdinand   3465756   \n",
       "..          ...  ...                                      ...       ...   \n",
       "99   2018-01-02   38                          The Breadwinner      1492   \n",
       "100  2018-01-02   39                                 Marshall      1449   \n",
       "101  2018-01-02   40                             Wonderstruck      1088   \n",
       "102  2018-01-02   41                       Let There Be Light       608   \n",
       "103  2018-01-02   42              On the Beach at Night Alone       126   \n",
       "\n",
       "    theaters      gross days                          distributor  \n",
       "0       3765  185224946   13              Sony Pictures Releasing  \n",
       "1       4232  531511829   18  Walt Disney Studios Motion Pictures  \n",
       "2       3316   54422533   13                Twentieth Century Fox  \n",
       "3       3468   68166470   11                   Universal Pictures  \n",
       "4       3337   57012473   18                Twentieth Century Fox  \n",
       "..       ...        ...  ...                                  ...  \n",
       "99        10     223841   47                                GKIDS  \n",
       "100       50    9472608   82                 Open Road Films (II)  \n",
       "101       10    1057858   75                 Roadside Attractions  \n",
       "102        8    7209864   68           Atlas Distribution Company  \n",
       "103        2      30809   47                     The Cinema Guild  \n",
       "\n",
       "[104 rows x 8 columns]"
      ]
     },
     "execution_count": 13,
     "metadata": {},
     "output_type": "execute_result"
    }
   ],
   "source": [
    "# check data\n",
    "df"
   ]
  },
  {
   "cell_type": "code",
   "execution_count": 14,
   "metadata": {},
   "outputs": [
    {
     "name": "stdout",
     "output_type": "stream",
     "text": [
      "CPU times: user 1 µs, sys: 0 ns, total: 1 µs\n",
      "Wall time: 4.29 µs\n"
     ]
    }
   ],
   "source": [
    "%%time\n",
    "#df.to_csv(\"daily_bo_2019.csv\")"
   ]
  },
  {
   "cell_type": "markdown",
   "metadata": {},
   "source": [
    "### Create function"
   ]
  },
  {
   "cell_type": "code",
   "execution_count": 15,
   "metadata": {},
   "outputs": [],
   "source": [
    "def get_daily_box_office(date1, date2):\n",
    "    # create date range \n",
    "    mydates = pd.date_range(date1, date2)\n",
    "    # set as a list\n",
    "    mydates_list = [date.strftime(\"%Y-%m-%d\") for date in mydates]\n",
    "\n",
    "    # loop to scrap every day from the range\n",
    "    # url base\n",
    "    base = \"https://www.boxofficemojo.com/date/\"\n",
    "\n",
    "    # empty dataframe\n",
    "    df = pd.DataFrame(columns=[\"date\",\"rank\",\"title\", \"daily\" , \"theaters\", \"gross\", \"days\", \"distributor\"]) \n",
    "        \n",
    "    # loop for fetch each single day (url)\n",
    "    for date in mydates_list:\n",
    "        url = base + str(date)\n",
    "        r = requests.get(url)\n",
    "        soup = bs4.BeautifulSoup(r.content, \"html.parser\")\n",
    "        movies = soup.find(\"div\", class_=\"a-section imdb-scroll-table-inner\").find_all(\"tr\")\n",
    "        # loop for extract each movie information\n",
    "        for movie in movies[1:]:\n",
    "            rank = str(movie.find_all(\"td\", class_=\"a-text-right mojo-header-column mojo-truncate mojo-field-type-rank mojo-sort-column\")[0].contents[0])\n",
    "            title = str(movie.find(\"a\", class_=\"a-link-normal\").contents[0])\n",
    "            daily = str(movie.find_all(\"td\", class_=\"a-text-right mojo-field-type-money mojo-estimatable\")[0].contents[0].replace(\",\",\"\").replace(\"$\",\"\"))\n",
    "            theaters = str(movie.find_all(\"td\", class_=\"a-text-right mojo-field-type-positive_integer mojo-estimatable\")[0].contents[0].replace(\",\",\"\"))\n",
    "            gross = str(movie.find_all(\"td\", class_=\"a-text-right mojo-field-type-money mojo-estimatable\")[2].contents[0].replace(\",\",\"\").replace(\"$\",\"\"))\n",
    "            days = str(movie.find_all(\"td\", class_=\"a-text-right mojo-field-type-positive_integer\")[1].contents[0])\n",
    "            distributor = str(\"-\" if movie.find_all(\"td\", class_=\"a-text-left mojo-field-type-release_studios\")[0].find(\"a\", class_=\"a-link-normal\") == None else movie.find_all(\"td\", class_=\"a-text-left mojo-field-type-release_studios\")[0].find(\"a\", class_=\"a-link-normal\").contents[0])\n",
    "            # append the info of each movie\n",
    "            df = df.append({\"date\":str(date), \"rank\":rank, \"title\":title, \"daily\":daily, \"theaters\":theaters, \"gross\":gross, \"days\":days, \"distributor\":distributor}, ignore_index=True)\n",
    "    \n",
    "    # return df\n",
    "    return df"
   ]
  },
  {
   "cell_type": "code",
   "execution_count": 16,
   "metadata": {},
   "outputs": [
    {
     "name": "stdout",
     "output_type": "stream",
     "text": [
      "CPU times: user 6.88 s, sys: 82.1 ms, total: 6.96 s\n",
      "Wall time: 38.4 s\n"
     ]
    },
    {
     "data": {
      "text/html": [
       "<div>\n",
       "<style scoped>\n",
       "    .dataframe tbody tr th:only-of-type {\n",
       "        vertical-align: middle;\n",
       "    }\n",
       "\n",
       "    .dataframe tbody tr th {\n",
       "        vertical-align: top;\n",
       "    }\n",
       "\n",
       "    .dataframe thead th {\n",
       "        text-align: right;\n",
       "    }\n",
       "</style>\n",
       "<table border=\"1\" class=\"dataframe\">\n",
       "  <thead>\n",
       "    <tr style=\"text-align: right;\">\n",
       "      <th></th>\n",
       "      <th>date</th>\n",
       "      <th>rank</th>\n",
       "      <th>title</th>\n",
       "      <th>daily</th>\n",
       "      <th>theaters</th>\n",
       "      <th>gross</th>\n",
       "      <th>days</th>\n",
       "      <th>distributor</th>\n",
       "    </tr>\n",
       "  </thead>\n",
       "  <tbody>\n",
       "    <tr>\n",
       "      <th>0</th>\n",
       "      <td>2018-01-01</td>\n",
       "      <td>1</td>\n",
       "      <td>Jumanji: Welcome to the Jungle</td>\n",
       "      <td>16222389</td>\n",
       "      <td>3765</td>\n",
       "      <td>185224946</td>\n",
       "      <td>13</td>\n",
       "      <td>Sony Pictures Releasing</td>\n",
       "    </tr>\n",
       "    <tr>\n",
       "      <th>1</th>\n",
       "      <td>2018-01-01</td>\n",
       "      <td>2</td>\n",
       "      <td>Star Wars: Episode VIII - The Last Jedi</td>\n",
       "      <td>14293461</td>\n",
       "      <td>4232</td>\n",
       "      <td>531511829</td>\n",
       "      <td>18</td>\n",
       "      <td>Walt Disney Studios Motion Pictures</td>\n",
       "    </tr>\n",
       "    <tr>\n",
       "      <th>2</th>\n",
       "      <td>2018-01-01</td>\n",
       "      <td>3</td>\n",
       "      <td>The Greatest Showman</td>\n",
       "      <td>5385815</td>\n",
       "      <td>3316</td>\n",
       "      <td>54422533</td>\n",
       "      <td>13</td>\n",
       "      <td>Twentieth Century Fox</td>\n",
       "    </tr>\n",
       "    <tr>\n",
       "      <th>3</th>\n",
       "      <td>2018-01-01</td>\n",
       "      <td>4</td>\n",
       "      <td>Pitch Perfect 3</td>\n",
       "      <td>4865865</td>\n",
       "      <td>3468</td>\n",
       "      <td>68166470</td>\n",
       "      <td>11</td>\n",
       "      <td>Universal Pictures</td>\n",
       "    </tr>\n",
       "    <tr>\n",
       "      <th>4</th>\n",
       "      <td>2018-01-01</td>\n",
       "      <td>5</td>\n",
       "      <td>Ferdinand</td>\n",
       "      <td>3465756</td>\n",
       "      <td>3337</td>\n",
       "      <td>57012473</td>\n",
       "      <td>18</td>\n",
       "      <td>Twentieth Century Fox</td>\n",
       "    </tr>\n",
       "    <tr>\n",
       "      <th>...</th>\n",
       "      <td>...</td>\n",
       "      <td>...</td>\n",
       "      <td>...</td>\n",
       "      <td>...</td>\n",
       "      <td>...</td>\n",
       "      <td>...</td>\n",
       "      <td>...</td>\n",
       "      <td>...</td>\n",
       "    </tr>\n",
       "    <tr>\n",
       "      <th>1484</th>\n",
       "      <td>2018-01-31</td>\n",
       "      <td>47</td>\n",
       "      <td>Only the Brave</td>\n",
       "      <td>899</td>\n",
       "      <td>26</td>\n",
       "      <td>18342947</td>\n",
       "      <td>104</td>\n",
       "      <td>Sony Pictures Releasing</td>\n",
       "    </tr>\n",
       "    <tr>\n",
       "      <th>1485</th>\n",
       "      <td>2018-01-31</td>\n",
       "      <td>48</td>\n",
       "      <td>Wonder Wheel</td>\n",
       "      <td>136</td>\n",
       "      <td>5</td>\n",
       "      <td>1403991</td>\n",
       "      <td>62</td>\n",
       "      <td>Amazon Studios</td>\n",
       "    </tr>\n",
       "    <tr>\n",
       "      <th>1486</th>\n",
       "      <td>2018-01-31</td>\n",
       "      <td>49</td>\n",
       "      <td>On the Beach at Night Alone</td>\n",
       "      <td>126</td>\n",
       "      <td>1</td>\n",
       "      <td>34139</td>\n",
       "      <td>76</td>\n",
       "      <td>The Cinema Guild</td>\n",
       "    </tr>\n",
       "    <tr>\n",
       "      <th>1487</th>\n",
       "      <td>2018-01-31</td>\n",
       "      <td>50</td>\n",
       "      <td>Parchi</td>\n",
       "      <td>48</td>\n",
       "      <td>1</td>\n",
       "      <td>67620</td>\n",
       "      <td>20</td>\n",
       "      <td>Atlas Distribution Company</td>\n",
       "    </tr>\n",
       "    <tr>\n",
       "      <th>1488</th>\n",
       "      <td>2018-01-31</td>\n",
       "      <td>51</td>\n",
       "      <td>Same Kind of Different as Me</td>\n",
       "      <td>28</td>\n",
       "      <td>3</td>\n",
       "      <td>6423560</td>\n",
       "      <td>104</td>\n",
       "      <td>Pure Flix Entertainment</td>\n",
       "    </tr>\n",
       "  </tbody>\n",
       "</table>\n",
       "<p>1489 rows × 8 columns</p>\n",
       "</div>"
      ],
      "text/plain": [
       "            date rank                                    title     daily  \\\n",
       "0     2018-01-01    1           Jumanji: Welcome to the Jungle  16222389   \n",
       "1     2018-01-01    2  Star Wars: Episode VIII - The Last Jedi  14293461   \n",
       "2     2018-01-01    3                     The Greatest Showman   5385815   \n",
       "3     2018-01-01    4                          Pitch Perfect 3   4865865   \n",
       "4     2018-01-01    5                                Ferdinand   3465756   \n",
       "...          ...  ...                                      ...       ...   \n",
       "1484  2018-01-31   47                           Only the Brave       899   \n",
       "1485  2018-01-31   48                             Wonder Wheel       136   \n",
       "1486  2018-01-31   49              On the Beach at Night Alone       126   \n",
       "1487  2018-01-31   50                                   Parchi        48   \n",
       "1488  2018-01-31   51             Same Kind of Different as Me        28   \n",
       "\n",
       "     theaters      gross days                          distributor  \n",
       "0        3765  185224946   13              Sony Pictures Releasing  \n",
       "1        4232  531511829   18  Walt Disney Studios Motion Pictures  \n",
       "2        3316   54422533   13                Twentieth Century Fox  \n",
       "3        3468   68166470   11                   Universal Pictures  \n",
       "4        3337   57012473   18                Twentieth Century Fox  \n",
       "...       ...        ...  ...                                  ...  \n",
       "1484       26   18342947  104              Sony Pictures Releasing  \n",
       "1485        5    1403991   62                       Amazon Studios  \n",
       "1486        1      34139   76                     The Cinema Guild  \n",
       "1487        1      67620   20           Atlas Distribution Company  \n",
       "1488        3    6423560  104              Pure Flix Entertainment  \n",
       "\n",
       "[1489 rows x 8 columns]"
      ]
     },
     "execution_count": 16,
     "metadata": {},
     "output_type": "execute_result"
    }
   ],
   "source": [
    "%%time\n",
    "get_daily_box_office(\"2018-01-01\", \"2018-01-31\")"
   ]
  },
  {
   "cell_type": "code",
   "execution_count": null,
   "metadata": {},
   "outputs": [],
   "source": []
  }
 ],
 "metadata": {
  "kernelspec": {
   "display_name": "Python 3",
   "language": "python",
   "name": "python3"
  },
  "language_info": {
   "codemirror_mode": {
    "name": "ipython",
    "version": 3
   },
   "file_extension": ".py",
   "mimetype": "text/x-python",
   "name": "python",
   "nbconvert_exporter": "python",
   "pygments_lexer": "ipython3",
   "version": "3.7.5"
  }
 },
 "nbformat": 4,
 "nbformat_minor": 2
}
