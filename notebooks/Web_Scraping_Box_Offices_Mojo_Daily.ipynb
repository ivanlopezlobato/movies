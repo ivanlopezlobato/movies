{
 "cells": [
  {
   "cell_type": "code",
   "execution_count": 1,
   "metadata": {},
   "outputs": [],
   "source": [
    "import pandas as pd\n",
    "import numpy as np\n",
    "import re\n",
    "import datetime\n",
    "import requests\n",
    "import bs4\n",
    "\n",
    "pd.set_option('display.max_rows', 50)"
   ]
  },
  {
   "cell_type": "code",
   "execution_count": 2,
   "metadata": {},
   "outputs": [],
   "source": [
    "# define url\n",
    "base = \"https://www.boxofficemojo.com/date/\"\n"
   ]
  },
  {
   "cell_type": "code",
   "execution_count": 3,
   "metadata": {},
   "outputs": [],
   "source": [
    "# take one day example\n",
    "date = \"2020-02-02\"\n",
    "url = base + date\n",
    "r = requests.get(url)\n",
    "soup = bs4.BeautifulSoup(r.content, \"html.parser\")\n",
    "movies = soup.find(\"div\", class_=\"a-section imdb-scroll-table-inner\").find_all(\"tr\")"
   ]
  },
  {
   "cell_type": "markdown",
   "metadata": {},
   "source": [
    "### Exploring website "
   ]
  },
  {
   "cell_type": "code",
   "execution_count": 4,
   "metadata": {},
   "outputs": [
    {
     "data": {
      "text/plain": [
       "'Bad Boys for Life'"
      ]
     },
     "execution_count": 4,
     "metadata": {},
     "output_type": "execute_result"
    }
   ],
   "source": [
    "# Title\n",
    "movies[1].find(\"a\", class_=\"a-link-normal\").contents[0]"
   ]
  },
  {
   "cell_type": "code",
   "execution_count": 5,
   "metadata": {},
   "outputs": [
    {
     "data": {
      "text/plain": [
       "'2823509'"
      ]
     },
     "execution_count": 5,
     "metadata": {},
     "output_type": "execute_result"
    }
   ],
   "source": [
    "# Daily\n",
    "movies[1].find_all(\"td\", class_=\"a-text-right mojo-field-type-money mojo-estimatable\")[0].contents[0].replace(\",\",\"\").replace(\"$\",\"\")"
   ]
  },
  {
   "cell_type": "code",
   "execution_count": 6,
   "metadata": {},
   "outputs": [
    {
     "data": {
      "text/plain": [
       "'3705'"
      ]
     },
     "execution_count": 6,
     "metadata": {},
     "output_type": "execute_result"
    }
   ],
   "source": [
    "# theaters\n",
    "movies[1].find_all(\"td\", class_=\"a-text-right mojo-field-type-positive_integer mojo-estimatable\")[0].contents[0].replace(\",\",\"\")"
   ]
  },
  {
   "cell_type": "code",
   "execution_count": 7,
   "metadata": {},
   "outputs": [
    {
     "data": {
      "text/plain": [
       "'148059490'"
      ]
     },
     "execution_count": 7,
     "metadata": {},
     "output_type": "execute_result"
    }
   ],
   "source": [
    "# Gross accumulated\n",
    "movies[1].find_all(\"td\", class_=\"a-text-right mojo-field-type-money mojo-estimatable\")[2].contents[0].replace(\",\",\"\").replace(\"$\",\"\")"
   ]
  },
  {
   "cell_type": "code",
   "execution_count": 8,
   "metadata": {},
   "outputs": [
    {
     "data": {
      "text/plain": [
       "'17'"
      ]
     },
     "execution_count": 8,
     "metadata": {},
     "output_type": "execute_result"
    }
   ],
   "source": [
    "# days\n",
    "movies[1].find_all(\"td\", class_=\"a-text-right mojo-field-type-positive_integer\")[1].contents[0]"
   ]
  },
  {
   "cell_type": "code",
   "execution_count": 9,
   "metadata": {},
   "outputs": [
    {
     "data": {
      "text/plain": [
       "'Sony Pictures Releasing'"
      ]
     },
     "execution_count": 9,
     "metadata": {},
     "output_type": "execute_result"
    }
   ],
   "source": [
    "# Distributor\n",
    "movies[1].find_all(\"td\", class_=\"a-text-left mojo-field-type-release_studios\")[0].find(\"a\", class_=\"a-link-normal\").contents[0]"
   ]
  },
  {
   "cell_type": "code",
   "execution_count": 10,
   "metadata": {},
   "outputs": [
    {
     "data": {
      "text/plain": [
       "'1'"
      ]
     },
     "execution_count": 10,
     "metadata": {},
     "output_type": "execute_result"
    }
   ],
   "source": [
    "# rank\n",
    "movies[1].find_all(\"td\", class_=\"a-text-right mojo-header-column mojo-truncate mojo-field-type-rank mojo-sort-column\")[0].contents[0]"
   ]
  },
  {
   "cell_type": "markdown",
   "metadata": {},
   "source": [
    "### Range of dates to extract"
   ]
  },
  {
   "cell_type": "code",
   "execution_count": 11,
   "metadata": {},
   "outputs": [],
   "source": [
    "# test range 2000 - 2019\n",
    "date1 = '2000-01-01'\n",
    "date2 = '2019-12-31'\n",
    "mydates = pd.date_range(date1, date2)\n",
    "mydates_list = [date.strftime(\"%Y-%m-%d\") for date in mydates]\n"
   ]
  },
  {
   "cell_type": "markdown",
   "metadata": {},
   "source": [
    "### Extract data from BoxOffice Mojo"
   ]
  },
  {
   "cell_type": "code",
   "execution_count": null,
   "metadata": {},
   "outputs": [],
   "source": [
    "base = \"https://www.boxofficemojo.com/date/\"\n",
    "\n",
    "# empty dataframe\n",
    "df = pd.DataFrame(columns=[\"date\",\"rank\",\"title\", \"daily\" , \"theaters\", \"gross\", \"days\", \"distributor\"]) \n",
    "    \n",
    "# loop for fetch all daily data of year 2019\n",
    "for date in mydates_list:\n",
    "    url = base + str(date)\n",
    "    r = requests.get(url)\n",
    "    soup = bs4.BeautifulSoup(r.content, \"html.parser\")\n",
    "    movies = soup.find(\"div\", class_=\"a-section imdb-scroll-table-inner\").find_all(\"tr\")\n",
    "    for movie in movies[1:]:\n",
    "        \n",
    "        rank = str(movie.find_all(\"td\", class_=\"a-text-right mojo-header-column mojo-truncate mojo-field-type-rank mojo-sort-column\")[0].contents[0])\n",
    "        title = str(movie.find(\"a\", class_=\"a-link-normal\").contents[0])\n",
    "        daily = str(movie.find_all(\"td\", class_=\"a-text-right mojo-field-type-money mojo-estimatable\")[0].contents[0].replace(\",\",\"\").replace(\"$\",\"\"))\n",
    "        theaters = str(movie.find_all(\"td\", class_=\"a-text-right mojo-field-type-positive_integer mojo-estimatable\")[0].contents[0].replace(\",\",\"\"))\n",
    "        gross = str(movie.find_all(\"td\", class_=\"a-text-right mojo-field-type-money mojo-estimatable\")[2].contents[0].replace(\",\",\"\").replace(\"$\",\"\"))\n",
    "        days = str(movie.find_all(\"td\", class_=\"a-text-right mojo-field-type-positive_integer\")[1].contents[0])\n",
    "        distributor = str(\"-\" if movie.find_all(\"td\", class_=\"a-text-left mojo-field-type-release_studios\")[0].find(\"a\", class_=\"a-link-normal\") == None else movie.find_all(\"td\", class_=\"a-text-left mojo-field-type-release_studios\")[0].find(\"a\", class_=\"a-link-normal\").contents[0])\n",
    "        \n",
    "        df = df.append({\"date\":str(date), \"rank\":rank, \"title\":title, \"daily\":daily, \"theaters\":theaters, \"gross\":gross, \"days\":days, \"distributor\":distributor}, ignore_index=True)"
   ]
  },
  {
   "cell_type": "code",
   "execution_count": null,
   "metadata": {},
   "outputs": [],
   "source": [
    "# check data\n",
    "df"
   ]
  },
  {
   "cell_type": "code",
   "execution_count": null,
   "metadata": {},
   "outputs": [],
   "source": []
  }
 ],
 "metadata": {
  "kernelspec": {
   "display_name": "Python 3",
   "language": "python",
   "name": "python3"
  },
  "language_info": {
   "codemirror_mode": {
    "name": "ipython",
    "version": 3
   },
   "file_extension": ".py",
   "mimetype": "text/x-python",
   "name": "python",
   "nbconvert_exporter": "python",
   "pygments_lexer": "ipython3",
   "version": "3.7.5"
  }
 },
 "nbformat": 4,
 "nbformat_minor": 2
}
